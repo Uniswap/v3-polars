{
 "cells": [
  {
   "cell_type": "markdown",
   "id": "376eedad",
   "metadata": {},
   "source": [
    "## Initial Imports"
   ]
  },
  {
   "cell_type": "code",
   "execution_count": null,
   "id": "e91ff62e",
   "metadata": {
    "vscode": {
     "languageId": "shellscript"
    }
   },
   "outputs": [],
   "source": [
    "!pip install pandas numpy matplotlib pandas polars scipy"
   ]
  },
  {
   "cell_type": "code",
   "execution_count": 1,
   "id": "d7b7210e",
   "metadata": {},
   "outputs": [],
   "source": [
    "import pandas as pd\n",
    "import numpy as np\n",
    "import math\n",
    "import matplotlib.pyplot as plt\n",
    "from scipy import sparse\n",
    "import matplotlib.animation as animation\n",
    "import os\n",
    "import time\n",
    "\n",
    "from typing import Tuple\n",
    "\n",
    "from collections import namedtuple\n",
    "import polars as pl\n",
    "\n",
    "from datetime import date, timedelta, datetime, timezone\n",
    "\n",
    "%load_ext autoreload\n",
    "%autoreload 2\n",
    "\n",
    "from v3 import state\n",
    "\n",
    "from matplotlib import font_manager\n",
    "\n",
    "font_files = font_manager.findSystemFonts(fontpaths=None, fontext=\"ttf\")\n",
    "\n",
    "for font_file in font_files:\n",
    "    try:\n",
    "        font_manager.fontManager.addfont(font_file)\n",
    "    except Exception as e:\n",
    "        pass"
   ]
  },
  {
   "cell_type": "markdown",
   "id": "e609ca91",
   "metadata": {},
   "source": [
    "## Setting up the data connectors"
   ]
  },
  {
   "cell_type": "markdown",
   "id": "8f1da024",
   "metadata": {},
   "source": [
    "### If you're using Allium (recommended)\n"
   ]
  },
  {
   "cell_type": "code",
   "execution_count": null,
   "id": "2c7a2ce7",
   "metadata": {},
   "outputs": [],
   "source": [
    "# add your credentials here\n",
    "# os.environ['ALLIUM_POLARSV3_QUERY_ID'] = 'abcdefg'\n",
    "# os.environ['ALLIUM_POLARSV3_API_KEY'] = 'deadbeef'\n",
    "\n",
    "update_from_source = \"allium\""
   ]
  },
  {
   "cell_type": "markdown",
   "id": "dcfa8fe5",
   "metadata": {},
   "source": [
    "### If you're using BigQuery\n",
    "(uncomment the lines in this section)"
   ]
  },
  {
   "cell_type": "code",
   "execution_count": null,
   "id": "b9d945c8",
   "metadata": {
    "vscode": {
     "languageId": "bat"
    }
   },
   "outputs": [],
   "source": [
    "# !pip install google-cloud-bigquery"
   ]
  },
  {
   "cell_type": "code",
   "execution_count": null,
   "id": "42cad50c",
   "metadata": {},
   "outputs": [],
   "source": [
    "# from google.cloud import bigquery\n",
    "\n",
    "# update_from_source = \"gbq\""
   ]
  },
  {
   "cell_type": "markdown",
   "id": "08cc05f3",
   "metadata": {},
   "source": [
    "## Usage"
   ]
  },
  {
   "cell_type": "code",
   "execution_count": 2,
   "id": "5ad52038",
   "metadata": {},
   "outputs": [
    {
     "name": "stdout",
     "output_type": "stream",
     "text": [
      "Starting table uniswap_v3_factory_pool_created_events_combined\n",
      "Found 191 to 112867947\n",
      "Found data\n",
      "Updated to 111531907 to 112867947\n",
      "Starting at 111531907\n",
      "Going from 111531907 to 112867947\n",
      "Starting table uniswap_v3_pool_swap_events_combined\n",
      "Found 201 to 112927404\n",
      "Found data\n",
      "Updated to 111593605 to 112927404\n",
      "Starting at 111593605\n",
      "Going from 111593605 to 112460324\n",
      "Starting at 112460325\n",
      "Going from 112460325 to 112927404\n",
      "Starting table uniswap_v3_pool_mint_burn_events_combined\n",
      "Found 200 to 112895006\n",
      "Found data\n",
      "Updated to 111555757 to 112895006\n",
      "Starting at 111555757\n",
      "Going from 111555757 to 112895006\n",
      "Starting table uniswap_v3_pool_initialize_events_combined\n",
      "Found 191 to 112867947\n",
      "Found data\n",
      "Updated to 111531907 to 112867947\n",
      "Starting at 111531907\n",
      "Going from 111531907 to 112867947\n",
      "Chain = optimism - Start pulling the ovm1\n",
      "Starting table uniswap_v3_factory_pool_created_events_combined\n",
      "Found 27471 to 2759474\n",
      "Found data\n",
      "Updated to 2759475 to 2759474\n",
      "Nothing to update\n",
      "Starting table uniswap_v3_pool_swap_events_combined\n",
      "Found 27520 to 4073177\n",
      "Found data\n",
      "Updated to 4073178 to 4073177\n",
      "Nothing to update\n",
      "Starting table uniswap_v3_pool_mint_burn_events_combined\n",
      "Found 27472 to 4073054\n",
      "Found data\n",
      "Updated to 4073055 to 4073054\n",
      "Nothing to update\n",
      "Starting table uniswap_v3_pool_initialize_events_combined\n",
      "Found 27471 to 2759474\n",
      "Found data\n",
      "Updated to 2759475 to 2759474\n",
      "Nothing to update\n"
     ]
    },
    {
     "name": "stderr",
     "output_type": "stream",
     "text": [
      "PARTITIONED DS: estimated cardinality: 1 exceeded the boundary: 0.4, running default HASH AGGREGATION\n",
      "PARTITIONED DS: estimated cardinality: 1 exceeded the boundary: 0.4, running default HASH AGGREGATION\n"
     ]
    },
    {
     "name": "stdout",
     "output_type": "stream",
     "text": [
      "Starting table uniswap_v3_factory_pool_created_events_combined\n",
      "Found 185 to 155917865\n",
      "Found data\n",
      "Updated to 150340965 to 155917865\n",
      "Starting at 150340965\n",
      "Going from 150340965 to 155917865\n",
      "Starting table uniswap_v3_pool_swap_events_combined\n",
      "Found 188 to 155926534\n",
      "Found data\n",
      "Updated to 150360101 to 155926534\n",
      "Starting at 150360101\n",
      "Going from 150360101 to 154073840\n",
      "Starting at 154073841\n",
      "Going from 154073841 to 155926534\n",
      "Starting table uniswap_v3_pool_mint_burn_events_combined\n",
      "Found 185 to 155687981\n",
      "Found data\n",
      "Updated to 150151935 to 155687981\n",
      "Starting at 150151935\n",
      "Going from 150151935 to 155687981\n",
      "Starting table uniswap_v3_pool_initialize_events_combined\n",
      "Found 185 to 155631123\n",
      "Found data\n",
      "Updated to 150103934 to 155631123\n",
      "Starting at 150103934\n",
      "Going from 150103934 to 155631123\n"
     ]
    },
    {
     "name": "stderr",
     "output_type": "stream",
     "text": [
      "PARTITIONED DS: estimated cardinality: 1 exceeded the boundary: 0.4, running default HASH AGGREGATION\n",
      "PARTITIONED DS: estimated cardinality: 1 exceeded the boundary: 0.4, running default HASH AGGREGATION\n"
     ]
    },
    {
     "name": "stdout",
     "output_type": "stream",
     "text": [
      "Starting table uniswap_v3_factory_pool_created_events_combined\n",
      "Found 12369739 to 18693207\n",
      "Found data\n",
      "Updated to 18571084 to 18693207\n",
      "Starting at 18571084\n",
      "Going from 18571084 to 18693207\n",
      "Starting table uniswap_v3_pool_swap_events_combined\n",
      "Found 12369879 to 18693211\n",
      "Found data\n",
      "Updated to 18571197 to 18693211\n",
      "Starting at 18571197\n",
      "Going from 18571197 to 18693211\n",
      "Starting table uniswap_v3_pool_mint_burn_events_combined\n",
      "Found 12369739 to 18687850\n",
      "Found data\n",
      "Updated to 18566417 to 18687850\n",
      "Starting at 18566417\n",
      "Going from 18566417 to 18687850\n",
      "Starting table uniswap_v3_pool_initialize_events_combined\n",
      "Found 12369739 to 18686384\n",
      "Found data\n",
      "Updated to 18565153 to 18686384\n",
      "Starting at 18565153\n",
      "Going from 18565153 to 18686384\n"
     ]
    },
    {
     "name": "stderr",
     "output_type": "stream",
     "text": [
      "PARTITIONED DS: estimated cardinality: 1 exceeded the boundary: 0.4, running default HASH AGGREGATION\n",
      "PARTITIONED DS: estimated cardinality: 1 exceeded the boundary: 0.4, running default HASH AGGREGATION\n"
     ]
    },
    {
     "name": "stdout",
     "output_type": "stream",
     "text": [
      "Starting table uniswap_v3_factory_pool_created_events_combined\n",
      "Found 22757913 to 50621678\n",
      "Found data\n",
      "Updated to 49060643 to 50621678\n",
      "Starting at 49060643\n",
      "Going from 49060643 to 50621678\n",
      "Starting table uniswap_v3_pool_swap_events_combined\n",
      "Found 22765731 to 50621868\n",
      "Found data\n",
      "Updated to 49061920 to 50621868\n",
      "Starting at 49061920\n",
      "Going from 49061920 to 49434648\n",
      "Starting at 49434649\n",
      "Going from 49434649 to 49789741\n",
      "Starting at 49789742\n",
      "Going from 49789742 to 50030111\n",
      "Starting at 50030112\n",
      "Going from 50030112 to 50360693\n",
      "Starting at 50360694\n",
      "Going from 50360694 to 50621868\n",
      "Starting table uniswap_v3_pool_mint_burn_events_combined\n",
      "Found 22762450 to 50591739\n",
      "Found data\n",
      "Updated to 49036818 to 50591739\n",
      "Starting at 49036818\n",
      "Going from 49036818 to 50591739\n",
      "Starting table uniswap_v3_pool_initialize_events_combined\n",
      "Found 22762313 to 50584030\n",
      "Found data\n",
      "Updated to 49028786 to 50584030\n",
      "Starting at 49028786\n",
      "Going from 49028786 to 50584030\n"
     ]
    },
    {
     "name": "stderr",
     "output_type": "stream",
     "text": [
      "PARTITIONED DS: estimated cardinality: 1 exceeded the boundary: 0.4, running default HASH AGGREGATION\n",
      "PARTITIONED DS: estimated cardinality: 1 exceeded the boundary: 0.4, running default HASH AGGREGATION\n"
     ]
    }
   ],
   "source": [
    "# read into all of the chain values and initialize their constructors\n",
    "starting = datetime(year = 2023, month = 11, day = 1)\n",
    "\n",
    "address = '0x85149247691df622eaf1a8bd0cafd40bc45154a9'\n",
    "op = state.v3Pool(address, 'optimism', update = True, update_from=update_from_source)\n",
    "priceOp = op.getPriceSeries(starting)\n",
    "\n",
    "address = '0xc31e54c7a869b9fcbecc14363cf510d1c41fa443'\n",
    "arb = state.v3Pool(address, 'arbitrum', update = True, update_from=update_from_source)\n",
    "priceArb = arb.getPriceSeries(starting)\n",
    "\n",
    "address = '0x88e6a0c2ddd26feeb64f039a2c41296fcb3f5640'\n",
    "eth = state.v3Pool(address, 'ethereum', update = True, update_from=update_from_source)\n",
    "priceEth = eth.getPriceSeries(starting)\n",
    "\n",
    "address = '0x45dda9cb7c25131df268515131f647d726f50608'\n",
    "polygon = state.v3Pool(address, 'polygon', update = True, update_from=update_from_source)\n",
    "pricePoly = polygon.getPriceSeries(starting)"
   ]
  },
  {
   "cell_type": "code",
   "execution_count": 3,
   "id": "f00bae0a",
   "metadata": {},
   "outputs": [],
   "source": [
    "import matplotlib.pylab as pylab\n",
    "# create the matplotlib params\n",
    "params = {'font.family': 'Inter',\n",
    "          'font.size': 16,\n",
    "          'axes.facecolor': '#FAF9F6',\n",
    "          'savefig.facecolor': '#FAF9F6'\n",
    "         }\n",
    "\n",
    "pylab.rcParams.update(params)"
   ]
  },
  {
   "cell_type": "code",
   "execution_count": 4,
   "id": "88a1a67a",
   "metadata": {},
   "outputs": [
    {
     "data": {
      "image/png": "[encoded data removed]",
      "text/plain": [
       "<Figure size 1080x1080 with 4 Axes>"
      ]
     },
     "metadata": {
      "needs_background": "light"
     },
     "output_type": "display_data"
    }
   ],
   "source": [
    "fig, ((ax1,ax2),(ax3,ax4))= plt.subplots(2, 2, figsize = (15, 15))\n",
    "\n",
    "axes = (ax1, ax2, ax3, ax4)\n",
    "\n",
    "line1, = ax1.plot([],[], '-', color = \"#FA3492\", alpha = .7)\n",
    "line2, = ax2.plot([],[], '-', color = \"#FA3492\", alpha = .7)\n",
    "line3, = ax3.plot([],[], '-', color = \"#FA3492\", alpha = .7)\n",
    "line4, = ax4.plot([],[], '-', color = \"#FA3492\", alpha = .7)\n",
    "\n",
    "# matplotlib animations struggle with the y/x axis changing, so\n",
    "# we place it before anything else\n",
    "tick_low, tick_high = (-204079, -199644)\n",
    "price_high = (((1.0001 ** int(tick_high) * 1e12) // 100) + 1) * 100\n",
    "price_low = ((1.0001 ** int(tick_low) * 1e12) // 100) * 100\n",
    "\n",
    "for ax in axes:\n",
    "    ax.set_xlim(price_low, price_high)\n",
    "    ax.set_ylim(0, 1.25)\n",
    "    ax.set_xlabel(\"ETH/USDC exchange rate ($)\", fontfamily='Inter', fontsize = 12)\n",
    "    ax.set_ylabel(\"Liquidity at tick (normalized)\", fontfamily='Inter', fontsize = 12)\n",
    "\n",
    "vl1 = ax1.axvline(0, ls = '-', linewidth = .5, color = \"black\", linestyle = \"--\", alpha = .7)\n",
    "vl2 = ax2.axvline(0, ls = '-', linewidth = .5, color = \"black\", linestyle = \"--\", alpha = .7)\n",
    "vl3 = ax3.axvline(0, ls = '-', linewidth = .5, color = \"black\", linestyle = \"--\", alpha = .7)\n",
    "vl4 = ax4.axvline(0, ls = '-', linewidth = .5, color = \"black\", linestyle = \"--\", alpha = .7)\n",
    "    \n",
    "def init(): \n",
    "    vl1.set_data([],[])\n",
    "    vl2.set_data([],[])\n",
    "    vl3.set_data([],[])\n",
    "    vl4.set_data([],[])\n",
    "    return \n",
    "\n",
    "def animate(i, prices, pools, axes):\n",
    "    try:\n",
    "        for num in range(len(prices)):\n",
    "            price = prices[num]\n",
    "            row = price.slice(i, 1)\n",
    "            ts = row['block_timestamp'].item()\n",
    "            tick = row['tick']\n",
    "            bn = row['block_number']\n",
    "\n",
    "            pool = pools[num]\n",
    "            liq = pool.createLiq(bn)\n",
    "\n",
    "            if num == 0 or num == 1:\n",
    "                tick_low, tick_high = (199644, 204079)\n",
    "                price_low, price_high = 1.0001**tick_low, 1.0001**tick_high\n",
    "\n",
    "                liq = (pool.createLiq(bn)\n",
    "                    .filter((pl.col('tick') >= tick_low) & \n",
    "                                ((pl.col('tick') <= tick_high))\n",
    "                       )\n",
    "                    .with_columns(price = 1 / ((1.0001 ** pl.col('tick'))) * 1e12)\n",
    "                  )\n",
    "                cur_px = 1 / ((1.0001 ** tick)) * 1e12\n",
    "\n",
    "            else:\n",
    "                tick_low, tick_high = (-204079, -199644)\n",
    "                price_low, price_high = 1.0001**tick_low, 1.0001**tick_high\n",
    "\n",
    "                liq = (pool.createLiq(bn)\n",
    "                        .filter((pl.col('tick') >= tick_low) & \n",
    "                                    ((pl.col('tick') <= tick_high))\n",
    "                           )\n",
    "                        .with_columns(price = (1.0001 ** pl.col('tick') * 1e12))\n",
    "                  )\n",
    "                cur_px = (1.0001 ** tick) * 1e12\n",
    "\n",
    "            max_liq = liq.select('liquidity').with_columns(liquidity = pl.col('liquidity').quantile(.99)).max().item()\n",
    "            min_liq = liq.select('liquidity').min().item()\n",
    "            \n",
    "            liq = (liq.with_columns(liquidity = (pl.col('liquidity') - min_liq) / (max_liq - min_liq)))\n",
    "\n",
    "            # the pool is inverted so we flip it to get weth/usdc price\n",
    "            if num == 0:\n",
    "                line1.set_xdata(liq['price'])\n",
    "                line1.set_ydata(liq['liquidity'])\n",
    "                vl1.set_xdata([cur_px, cur_px])\n",
    "            elif num == 1:\n",
    "                line2.set_xdata(liq['price'])\n",
    "                line2.set_ydata(liq['liquidity'])\n",
    "                vl2.set_xdata([cur_px, cur_px])\n",
    "            elif num == 2:\n",
    "                line3.set_xdata(liq['price'])\n",
    "                line3.set_ydata(liq['liquidity'])\n",
    "                vl3.set_xdata([cur_px, cur_px])\n",
    "            elif num == 3:\n",
    "                line4.set_xdata(liq['price'])\n",
    "                line4.set_ydata(liq['liquidity'])\n",
    "                vl4.set_xdata([cur_px, cur_px])\n",
    "\n",
    "        ax1.set_title(\"Ethereum\", fontfamily='Inter', fontsize = 20)\n",
    "        ax2.set_title(\"Polygon\", fontfamily='Inter', fontsize = 20)\n",
    "        ax3.set_title(\"Optimism\", fontfamily='Inter', fontsize = 20)\n",
    "        ax4.set_title(\"Arbitrum\", fontfamily='Inter', fontsize = 20)\n",
    "        \n",
    "        ax1.set_yticks([.25, .5, .75, 1],\n",
    "                  labels=['25%', '50%', '75%', '100%'])\n",
    "        ax2.set_yticks([.25, .5, .75, 1],\n",
    "                  labels=['25%', '50%', '75%', '100%'])\n",
    "        ax3.set_yticks([.25, .5, .75, 1],\n",
    "                  labels=['25%', '50%', '75%', '100%'])\n",
    "        ax4.set_yticks([.25, .5, .75, 1],\n",
    "                  labels=['25%', '50%', '75%', '100%'])\n",
    "                \n",
    "        plt.suptitle(ts.strftime(\"Cross chain WETH/USDC 5bps - %m/%d/%Y Hour: %H\"),\n",
    "                     fontfamily='Inter', fontsize = 26)\n",
    "\n",
    "        return line1,line2,line3,line4, vl1,vl2,vl3,vl4\n",
    "    except Exception as e:\n",
    "        return line1,line2,line3,line4, vl1,vl2,vl3,vl4\n",
    "\n",
    "frames = priceEth.shape[0]\n",
    "ani = animation.FuncAnimation(fig, animate, frames=frames, fargs=((priceEth, pricePoly, \n",
    "                                                                   priceOp, priceArb), (eth, polygon,\n",
    "                                                                                        op, arb), axes),\n",
    "                              interval=100, blit=True)\n",
    "write = True\n",
    "if write:\n",
    "    f = \"assets/animation.gif\" \n",
    "    writergif = animation.PillowWriter(fps=15) \n",
    "    ani.save(f, writer=writergif)"
   ]
  },
  {
   "cell_type": "code",
   "execution_count": null,
   "id": "e399c37b",
   "metadata": {},
   "outputs": [],
   "source": []
  }
 ],
 "metadata": {
  "kernelspec": {
   "display_name": "Python 3 (ipykernel)",
   "language": "python",
   "name": "python3"
  },
  "language_info": {
   "codemirror_mode": {
    "name": "ipython",
    "version": 3
   },
   "file_extension": ".py",
   "mimetype": "text/x-python",
   "name": "python",
   "nbconvert_exporter": "python",
   "pygments_lexer": "ipython3",
   "version": "3.10.12"
  }
 },
 "nbformat": 4,
 "nbformat_minor": 5
}
